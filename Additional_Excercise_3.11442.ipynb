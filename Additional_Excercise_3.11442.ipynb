{
 "cells": [
  {
   "cell_type": "markdown",
   "metadata": {},
   "source": [
    "# 1) Write a python program which creates a class named Cone and write a function calculate_area which calculates the area of the Cone."
   ]
  },
  {
   "cell_type": "code",
   "execution_count": null,
   "metadata": {},
   "outputs": [],
   "source": [
    "Please enter the radius of the cone: 4\n",
    "Please enter the height of the cone: 5\n",
    "Area of a cone with radius: 4.00 and height: 5.00 is: 83.73\n",
    "            Pi * r * (r + sqrt(r2 + h2)), Volume = 1 / 3 * Pi * r2 * h \n",
    "            where r is the radius and h is the height of the cone & Pi = 22/7"
   ]
  },
  {
   "cell_type": "code",
   "execution_count": 8,
   "metadata": {},
   "outputs": [],
   "source": [
    "import math"
   ]
  },
  {
   "cell_type": "code",
   "execution_count": 15,
   "metadata": {},
   "outputs": [
    {
     "name": "stdout",
     "output_type": "stream",
     "text": [
      "Please Enter the Radius of a Cone: 4\n",
      "Please Enter the Height of a Cone: 5\n",
      "130.72951471480383\n"
     ]
    }
   ],
   "source": [
    "class cone:\n",
    "    radius = float(input('Please Enter the Radius of a Cone: '))\n",
    "height = float(input('Please Enter the Height of a Cone: '))\n",
    "l = math.sqrt(radius * radius + height * height)\n",
    "SA = math.pi * radius * (radius + l)\n",
    "print(SA)"
   ]
  },
  {
   "cell_type": "markdown",
   "metadata": {},
   "source": [
    "# 2) Define a class MathOperation which implements pow(x,n) without using python's in-built pow() method"
   ]
  },
  {
   "cell_type": "code",
   "execution_count": 43,
   "metadata": {},
   "outputs": [
    {
     "name": "stdout",
     "output_type": "stream",
     "text": [
      "8\n",
      "0.008\n",
      "-32\n",
      "-0.008\n",
      "1\n"
     ]
    }
   ],
   "source": [
    "class MathOperation_solution:\n",
    "    def power(x, n):\n",
    "        if (n == 0): return 1\n",
    "        elif (int(n % 2) == 0):\n",
    "            return (power(x, int(n / 2)) * power(x, int(n / 2)))\n",
    "        else:\n",
    "            return (n * power(n, int(n / 2)) * power(x, int(n / 2)))\n",
    "\n",
    "print(pow(2,3));\n",
    "print(pow(5, -3));\n",
    "print(pow(-2, 5));\n",
    "print(pow(-5, -3));\n",
    "print(pow(2000, 0))\n",
    "\n"
   ]
  },
  {
   "cell_type": "markdown",
   "metadata": {},
   "source": [
    "# 3) Write a python program that creates a class Base and Derived. Use inbuilt function issubclass and isinstance which gives boolean results.(True or\n",
    "False)\n",
    " Check:\n",
    " Derived class is a subclass of Base class which will return true\n",
    " Base class is a subclass of Derived class which will return false\n",
    " Base class is an instance of Derived class which will return false\n",
    " Derived class is an instance of Base class which will return true"
   ]
  },
  {
   "cell_type": "code",
   "execution_count": 45,
   "metadata": {},
   "outputs": [],
   "source": [
    "class N:\n",
    "    pass\n",
    "class Z(N):\n",
    "    pass\n",
    "\n",
    "n = N()\n",
    "z = Z()"
   ]
  },
  {
   "cell_type": "code",
   "execution_count": null,
   "metadata": {},
   "outputs": [],
   "source": [
    "#Derived class is a subclass of Base class which will return true"
   ]
  },
  {
   "cell_type": "code",
   "execution_count": 50,
   "metadata": {},
   "outputs": [
    {
     "data": {
      "text/plain": [
       "True"
      ]
     },
     "execution_count": 50,
     "metadata": {},
     "output_type": "execute_result"
    }
   ],
   "source": [
    "issubclass(Z,N)"
   ]
  },
  {
   "cell_type": "code",
   "execution_count": null,
   "metadata": {},
   "outputs": [],
   "source": [
    "#Base class is a subclass of Derived class which will return false"
   ]
  },
  {
   "cell_type": "code",
   "execution_count": 51,
   "metadata": {},
   "outputs": [
    {
     "data": {
      "text/plain": [
       "False"
      ]
     },
     "execution_count": 51,
     "metadata": {},
     "output_type": "execute_result"
    }
   ],
   "source": [
    "issubclass(N, Z)"
   ]
  },
  {
   "cell_type": "code",
   "execution_count": null,
   "metadata": {},
   "outputs": [],
   "source": [
    "#Base class is an instance of Derived class which will return false"
   ]
  },
  {
   "cell_type": "code",
   "execution_count": 53,
   "metadata": {},
   "outputs": [
    {
     "data": {
      "text/plain": [
       "False"
      ]
     },
     "execution_count": 53,
     "metadata": {},
     "output_type": "execute_result"
    }
   ],
   "source": [
    "isinstance(n, Z)"
   ]
  },
  {
   "cell_type": "code",
   "execution_count": null,
   "metadata": {},
   "outputs": [],
   "source": [
    "#Derived class is an instance of Base class which will return true"
   ]
  },
  {
   "cell_type": "code",
   "execution_count": 56,
   "metadata": {},
   "outputs": [
    {
     "data": {
      "text/plain": [
       "True"
      ]
     },
     "execution_count": 56,
     "metadata": {},
     "output_type": "execute_result"
    }
   ],
   "source": [
    "isinstance(z, N)"
   ]
  },
  {
   "cell_type": "markdown",
   "metadata": {},
   "source": [
    "# 4) Write a python program that creates base class Person which has two methods\n",
    " def __init__(self, first, last)\n",
    " def __str__(self)\n",
    " Also create a derived class named Employee which uses the base class method “def __str__(self)” using “super()” to concatenate first name with last name"
   ]
  },
  {
   "cell_type": "code",
   "execution_count": 75,
   "metadata": {},
   "outputs": [
    {
     "name": "stdout",
     "output_type": "stream",
     "text": [
      "Sandeep Ghosal\n"
     ]
    }
   ],
   "source": [
    "class Person:\n",
    "\n",
    "    def __init__(self, first, last):\n",
    "        self.firstname = first\n",
    "        self.lastname = last\n",
    "        \n",
    "\n",
    "    def __str__(self):\n",
    "        return self.firstname + \" \" + self.lastname\n",
    "\n",
    "class Employee(Person):\n",
    "\n",
    "    def __init__(self, first, last):\n",
    "        super().__init__(first, last)\n",
    "       \n",
    "z = Person(\"Sandeep\", \"Ghosal\")\n",
    "\n",
    "print(z)"
   ]
  }
 ],
 "metadata": {
  "kernelspec": {
   "display_name": "Python 3",
   "language": "python",
   "name": "python3"
  },
  "language_info": {
   "codemirror_mode": {
    "name": "ipython",
    "version": 3
   },
   "file_extension": ".py",
   "mimetype": "text/x-python",
   "name": "python",
   "nbconvert_exporter": "python",
   "pygments_lexer": "ipython3",
   "version": "3.6.5"
  }
 },
 "nbformat": 4,
 "nbformat_minor": 2
}
